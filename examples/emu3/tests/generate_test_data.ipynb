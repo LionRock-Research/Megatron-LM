{
 "cells": [
  {
   "cell_type": "code",
   "execution_count": 1,
   "metadata": {},
   "outputs": [],
   "source": [
    "import json"
   ]
  },
  {
   "cell_type": "code",
   "execution_count": 2,
   "metadata": {},
   "outputs": [],
   "source": [
    "datasets_dir = '/datasets/MegatronTest/Alpaca ZH Demo.json'"
   ]
  },
  {
   "cell_type": "code",
   "execution_count": 3,
   "metadata": {},
   "outputs": [],
   "source": [
    "with open(datasets_dir, 'r') as f:\n",
    "    datas = json.load(f)"
   ]
  },
  {
   "cell_type": "code",
   "execution_count": 9,
   "metadata": {},
   "outputs": [],
   "source": [
    "\n",
    "with open(datasets_dir, 'r') as f:\n",
    "    datas = json.load(f)\n",
    "# merge data into single line\n",
    "merged_datas = []\n",
    "for data in datas[:100]:\n",
    "    merged_datas.append({'text_prefix': data['instruction'] + '\\n' +data['input'] if data['input'] else data['instruction'], 'text': data['output']})\n",
    "\n",
    "# dump as jsonl\n",
    "jsonl_file = '/datasets/MegatronTest/Alpaca ZH Demo.jsonl'\n",
    "with open(jsonl_file, 'w') as f:\n",
    "    for data in merged_datas:\n",
    "        f.write(json.dumps(data, ensure_ascii=False) + '\\n')\n"
   ]
  }
 ],
 "metadata": {
  "kernelspec": {
   "display_name": "default",
   "language": "python",
   "name": "python3"
  },
  "language_info": {
   "codemirror_mode": {
    "name": "ipython",
    "version": 3
   },
   "file_extension": ".py",
   "mimetype": "text/x-python",
   "name": "python",
   "nbconvert_exporter": "python",
   "pygments_lexer": "ipython3",
   "version": "3.10.16"
  }
 },
 "nbformat": 4,
 "nbformat_minor": 2
}
